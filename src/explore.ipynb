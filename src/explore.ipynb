{
    "cells": [
        {
            "cell_type": "markdown",
            "metadata": {},
            "source": [
                "# Explore here"
            ]
        },
        {
            "cell_type": "code",
            "execution_count": null,
            "metadata": {},
            "outputs": [],
            "source": [
                "import os\n",
                "import numpy as np\n",
                "import matplotlib.pyplot as plt\n",
                "from tensorflow import keras\n",
                "from keras.preprocessing import image"
            ]
        },
        {
            "cell_type": "code",
            "execution_count": null,
            "metadata": {},
            "outputs": [],
            "source": [
                "carpeta_train = 'data/raw/train'\n",
                "carpeta_test = 'data/raw/test1'\n",
                "\n",
                "#separar imagenes de train en subcarpetas cat y dog por el nombre de la imagen\n",
                "for file in os.listdir(carpeta_train):\n",
                "    if 'cat' in file:\n",
                "        #saltar si es un directorio\n",
                "        if os.path.isdir(carpeta_train + '/' + file):\n",
                "            continue\n",
                "        os.rename(carpeta_train + '/' + file, carpeta_train + '/cat/' + file)\n",
                "    elif 'dog' in file:\n",
                "        #saltar si es un directorio\n",
                "        if os.path.isdir(carpeta_train + '/' + file):\n",
                "            continue\n",
                "        os.rename(carpeta_train + '/' + file, carpeta_train + '/dog/' + file)"
            ]
        },
        {
            "cell_type": "code",
            "execution_count": null,
            "metadata": {},
            "outputs": [],
            "source": [
                "subfolder_perros = 'data/raw/train/dog'\n",
                "subfolder_gatos = 'data/raw/train/cat'\n",
                "\n",
                "#obtener una lista de todos los nombres de los archivos de perros\n",
                "perros = os.listdir(subfolder_perros)\n",
                "#obtener una lista de todos los nombres de los archivos de gatos\n",
                "gatos = os.listdir(subfolder_gatos)\n",
                "\n",
                "#cargar las nueve primeras imagenes de perros\n",
                "imagenes_perros =[]\n",
                "for i in range(9):\n",
                "    img = image.load_img(subfolder_perros + '/' + perros[i], target_size=(200, 200))\n",
                "    img = image.img_to_array(img)\n",
                "    imagenes_perros.append(img)\n",
                "\n",
                "#creo una figura de 3x3 para mostrar las imagenes\n",
                "plt.figure(figsize=(10, 10))\n",
                "for i in range(9):\n",
                "    plt.subplot(3, 3, i+1)\n",
                "    plt.imshow(imagenes_perros[i].astype(np.uint8))\n",
                "    plt.axis('off')\n",
                "    plt.title('imagen de Perro')\n",
                "plt.show()"
            ]
        },
        {
            "cell_type": "code",
            "execution_count": null,
            "metadata": {},
            "outputs": [],
            "source": [
                "#cargar las nueve primeras imagenes de gatos\n",
                "imagenes_gatos =[]\n",
                "for i in range(9):\n",
                "    img = image.load_img(subfolder_gatos + '/' + gatos[i], target_size=(200, 200))\n",
                "    img = image.img_to_array(img)\n",
                "    imagenes_gatos.append(img)\n",
                "\n",
                "#creo una figura de 3x3 para mostrar las imagenes\n",
                "plt.figure(figsize=(10, 10))\n",
                "for i in range(9):\n",
                "    plt.subplot(3, 3, i+1)\n",
                "    plt.imshow(imagenes_gatos[i].astype(np.uint8))\n",
                "    plt.axis('off')\n",
                "    plt.title('imagen de Gato')\n",
                "plt.show()"
            ]
        },
        {
            "cell_type": "code",
            "execution_count": null,
            "metadata": {},
            "outputs": [],
            "source": [
                "from tensorflow.keras.preprocessing.image import ImageDataGenerator\n",
                "\n",
                "#creamos reglas de preprocesamiento para las imagenes\n",
                "train_dir = 'data/raw/train'\n",
                "test_dir = 'data/raw/'\n",
                "\n",
                "datagentrain = ImageDataGenerator()\n",
                "datagentest = ImageDataGenerator()\n",
                "\n",
                "train_data = datagentrain.flow_from_directory(train_dir, \n",
                "                                              target_size=(200, 200),\n",
                "                                              batch_size=32, \n",
                "                                              classes=['cat', 'dog'])\n",
                "\n",
                "test_data = datagentest.flow_from_directory(test_dir,\n",
                "                                            target_size=(200, 200),\n",
                "                                            batch_size=32,\n",
                "                                            classes=['test1'])"
            ]
        },
        {
            "cell_type": "code",
            "execution_count": null,
            "metadata": {},
            "outputs": [],
            "source": [
                "from keras.models import Sequential\n",
                "from keras.layers import Conv2D, MaxPool2D, Flatten, Dense, Rescaling\n",
                "\n",
                "model = Sequential()\n",
                "model.add(Rescaling(1./255, input_shape=(200, 200, 3)))\n",
                "model.add(Conv2D(filters = 64, kernel_size = (3,3), padding = \"same\", activation = \"relu\"))\n",
                "model.add(Conv2D(filters = 64,kernel_size = (3,3),padding = \"same\", activation = \"relu\"))\n",
                "model.add(MaxPool2D(pool_size = (2,2),strides = (2,2)))\n",
                "model.add(Conv2D(filters = 128, kernel_size = (3,3), padding = \"same\", activation = \"relu\"))\n",
                "model.add(Conv2D(filters = 128, kernel_size = (3,3), padding = \"same\", activation = \"relu\"))\n",
                "model.add(MaxPool2D(pool_size = (2,2),strides = (2,2)))\n",
                "model.add(Conv2D(filters = 256, kernel_size = (3,3), padding = \"same\", activation = \"relu\"))\n",
                "model.add(Conv2D(filters = 256, kernel_size = (3,3), padding = \"same\", activation = \"relu\"))\n",
                "model.add(Conv2D(filters = 256, kernel_size = (3,3), padding = \"same\", activation = \"relu\"))\n",
                "model.add(MaxPool2D(pool_size = (2,2),strides = (2,2)))\n",
                "model.add(Conv2D(filters = 512, kernel_size = (3,3), padding = \"same\", activation = \"relu\"))\n",
                "model.add(Conv2D(filters = 512, kernel_size = (3,3), padding = \"same\", activation = \"relu\"))\n",
                "model.add(Conv2D(filters = 512, kernel_size = (3,3), padding = \"same\", activation = \"relu\"))\n",
                "model.add(MaxPool2D(pool_size = (2,2),strides = (2,2)))\n",
                "model.add(Conv2D(filters = 512, kernel_size = (3,3), padding = \"same\", activation = \"relu\"))\n",
                "model.add(Conv2D(filters = 512, kernel_size = (3,3), padding = \"same\", activation = \"relu\"))\n",
                "model.add(Conv2D(filters = 512, kernel_size = (3,3), padding = \"same\", activation = \"relu\"))\n",
                "model.add(MaxPool2D(pool_size = (2,2),strides = (2,2)))\n",
                "model.add(Flatten())\n",
                "model.add(Dense(units = 4096,activation = \"relu\"))\n",
                "model.add(Dense(units = 4096,activation = \"relu\"))\n",
                "model.add(Dense(units = 2, activation = \"softmax\"))"
            ]
        },
        {
            "cell_type": "code",
            "execution_count": null,
            "metadata": {},
            "outputs": [],
            "source": [
                "#compilar el modelo con Adam\n",
                "from tensorflow.keras.losses import CategoricalCrossentropy\n",
                "model.compile(optimizer = 'adam', loss = CategoricalCrossentropy(), metrics = ['accuracy'])"
            ]
        },
        {
            "cell_type": "code",
            "execution_count": null,
            "metadata": {},
            "outputs": [],
            "source": [
                "model.fit(train_data, epochs = 70)"
            ]
        }
    ],
    "metadata": {
        "kernelspec": {
            "display_name": "Python 3",
            "language": "python",
            "name": "python3"
        },
        "language_info": {
            "codemirror_mode": {
                "name": "ipython",
                "version": 3
            },
            "file_extension": ".py",
            "mimetype": "text/x-python",
            "name": "python",
            "nbconvert_exporter": "python",
            "pygments_lexer": "ipython3",
            "version": "3.10.12"
        },
        "orig_nbformat": 4
    },
    "nbformat": 4,
    "nbformat_minor": 2
}
